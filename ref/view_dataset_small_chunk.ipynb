{
 "cells": [
  {
   "cell_type": "code",
   "execution_count": null,
   "metadata": {},
   "outputs": [],
   "source": [
    "# -*- coding:utf-8 -*-\n",
    "\n",
    "import os\n",
    "import pandas as pd\n",
    "\n",
    "# 한 조각에 담을 행의 수\n",
    "size = 10 ** 5\n",
    "dataset = \"..\\dataset\\original_dataset\\steam_reviews.csv\"\n",
    "\n",
    "df = pd.read_csv(dataset, encoding=\"utf-8\", chunksize=size)\n",
    "\n",
    "if not os.path.exists(\"chunk\"):\n",
    "    os.makedirs(\"chunk\")\n",
    "    \n",
    "os.chdir(os.getcwd()+\"\\chunk\")\n",
    "\n",
    "for num, chunk in enumerate(df):\n",
    "    chunk.to_csv(f\"{os.getcwd()}\\chunk{num+1}.csv\", index=False, encoding=\"utf-8-sig\")"
   ]
  }
 ],
 "metadata": {
  "kernelspec": {
   "display_name": "hufs2102",
   "language": "python",
   "name": "hufs2102"
  },
  "language_info": {
   "codemirror_mode": {
    "name": "ipython",
    "version": 3
   },
   "file_extension": ".py",
   "mimetype": "text/x-python",
   "name": "python",
   "nbconvert_exporter": "python",
   "pygments_lexer": "ipython3",
   "version": "3.9.6"
  }
 },
 "nbformat": 4,
 "nbformat_minor": 4
}
