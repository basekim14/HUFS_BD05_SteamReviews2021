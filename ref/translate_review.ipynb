{
 "cells": [
  {
   "cell_type": "code",
   "execution_count": 25,
   "metadata": {},
   "outputs": [],
   "source": [
    "# -*- coding:utf-8 -*-\n",
    "\n",
    "import googletrans\n",
    "import pandas as pd\n",
    "import random\n",
    "\n",
    "# 선행 데이터, 함수 선언\n",
    "src = {\n",
    "    \"schinese\": \"zh-cn\",\n",
    "    \"english\": \"en\",\n",
    "    \"turkish\": \"tr\",\n",
    "    \"spanish\": \"es\",\n",
    "    \"russian\": \"ru\",\n",
    "    \"koreana\": \"ko\",\n",
    "    \"latam\": \"la\",\n",
    "    \"brazilian\": \"pt\",\n",
    "    \"portuguese\": \"pt\",\n",
    "    \"vietnamese\": \"vi\",\n",
    "    \"polish\": \"pl\",\n",
    "    \"french\": \"fr\",\n",
    "    \"german\": \"de\",\n",
    "    \"hungarian\": \"hu\",\n",
    "    \"ukrainian\": \"uk\",\n",
    "    \"tchinese\": \"zh-tw\",\n",
    "    \"bulgarian\": \"bg\",\n",
    "    \"czech\": \"cs\",\n",
    "    \"italian\": \"it\",\n",
    "    \"thai\": \"th\",\n",
    "    \"greek\": \"el\",\n",
    "    \"dutch\": \"nl\",\n",
    "    \"finnish\": \"fi\",\n",
    "    \"romanian\": \"ro\",\n",
    "    \"japanese\": \"ja\",\n",
    "    \"swedish\": \"sv\",\n",
    "    \"danish\": \"da\",\n",
    "    \"norwegian\": \"no\"\n",
    "}\n",
    "\n",
    "def remove_escapestr(text):\n",
    "    return text.replace(\"\\n\", \" \")\n",
    "\n",
    "def translate_review(language, review):\n",
    "    try:\n",
    "        result = translator.translate(review, src = language, dest=\"en\")\n",
    "        return result.text\n",
    "    except:\n",
    "        return \"[Error] wrong review type\"\n",
    "\n",
    "# 참조 : https://blockdmask.tistory.com/540\n",
    "# 번역 과정에 필요한 translator 객체\n",
    "translator = googletrans.Translator()\n",
    "\n",
    "# 한 조각에 담을 행의 수\n",
    "size = 10 ** 5\n",
    "dataset = \"..\\dataset\\original_dataset\\steam_reviews.csv\"\n",
    "\n",
    "# 출력 결과 스타일 설정\n",
    "pd.set_option(\"display.max_rows\", 20)\n",
    "pd.set_option(\"display.max.colwidth\", 1000)\n",
    "\n",
    "# 리뷰 내용과 해당 리뷰의 언어에 해당하는 열만 dateframe으로 불러옴\n",
    "df = pd.read_csv(dataset, encoding=\"utf-8\", usecols = [\"language\", \"review\"], chunksize=size)"
   ]
  },
  {
   "cell_type": "code",
   "execution_count": null,
   "metadata": {
    "scrolled": true
   },
   "outputs": [],
   "source": [
    "# dataframe에서 10개의 리뷰만 랜덤으로 선별\n",
    "random_output = []\n",
    "for ck in df:\n",
    "    # 각 조각 별로 영어 리뷰 항목 제거\n",
    "    ck = ck[ck.language != \"english\"]\n",
    "    random_output.append(ck.sample(1))\n",
    "    \n",
    "    if len(random_output) >= 10:\n",
    "        break\n",
    "\n",
    "result = pd.concat(random_output)\n",
    "\n",
    "# 리뷰 내용에 적힌 escape 문 제거\n",
    "result[\"review\"] = result[\"review\"].apply(remove_escapestr)\n",
    "display(result.loc[:, [\"language\", \"review\"]])\n",
    "\n",
    "# 영문으로 번역된 새로운 열 추가\n",
    "result[\"translated\"] = result.apply(\n",
    "                        lambda x: translate_review(src[x[\"language\"]], x[\"review\"]), axis=1\n",
    "                       )\n",
    "\n",
    "# translated 열 출력\n",
    "display(result.loc[:, [\"language\", \"translated\"]])"
   ]
  },
  {
   "cell_type": "code",
   "execution_count": 27,
   "metadata": {
    "scrolled": true
   },
   "outputs": [
    {
     "name": "stdout",
     "output_type": "stream",
     "text": [
      "Funny with friends\n"
     ]
    }
   ],
   "source": [
    "# 단일 문장 번역 테스트\n",
    "language = \"koreana\"\n",
    "review = \"친구들이랑 하기 재밌습니다\"\n",
    "print(translate_review(src[language], review))"
   ]
  }
 ],
 "metadata": {
  "kernelspec": {
   "display_name": "hufs2102",
   "language": "python",
   "name": "hufs2102"
  },
  "language_info": {
   "codemirror_mode": {
    "name": "ipython",
    "version": 3
   },
   "file_extension": ".py",
   "mimetype": "text/x-python",
   "name": "python",
   "nbconvert_exporter": "python",
   "pygments_lexer": "ipython3",
   "version": "3.9.6"
  }
 },
 "nbformat": 4,
 "nbformat_minor": 4
}
